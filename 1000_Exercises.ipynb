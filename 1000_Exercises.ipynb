{
 "cells": [
  {
   "cell_type": "markdown",
   "id": "29712ba7-72bd-486a-a602-1bda3c347843",
   "metadata": {},
   "source": [
    "# **1000 Bài tập lập trình Nguyễn Trần Minh Khang**"
   ]
  },
  {
   "cell_type": "markdown",
   "id": "3b7c3862-9d4f-40d6-ada2-f3feed99e9eb",
   "metadata": {},
   "source": [
    "## Bài 1: Tính $S(n) = 1 + 2 + 3 + … + n$"
   ]
  },
  {
   "cell_type": "code",
   "execution_count": 2,
   "id": "9982bb44-93cd-49a8-ae78-52381ac7ef17",
   "metadata": {},
   "outputs": [
    {
     "name": "stdin",
     "output_type": "stream",
     "text": [
      ">> Nhập vào số nguyên n: 3\n"
     ]
    },
    {
     "name": "stdout",
     "output_type": "stream",
     "text": [
      "Tổng S(n) = 6\n"
     ]
    }
   ],
   "source": [
    "S = 0\n",
    "n = int(input(\">>> Nhập vào số nguyên n:\"))\n",
    "for i in range(1,n+1):\n",
    "    S += i\n",
    "print(\"Tổng S(n) =\", S)"
   ]
  },
  {
   "cell_type": "markdown",
   "id": "ac269a7d-c561-454a-8f19-3bab24a91b12",
   "metadata": {},
   "source": [
    "## Bài 2: Tính $S(n) = 1^2 + 2^2 + 3^2 + … + n^2$"
   ]
  },
  {
   "cell_type": "code",
   "execution_count": 3,
   "id": "0bab0b78-a5fa-483c-bc64-78da872f3b68",
   "metadata": {},
   "outputs": [
    {
     "name": "stdin",
     "output_type": "stream",
     "text": [
      ">>> Nhập vào số nguyên n: 3\n"
     ]
    },
    {
     "name": "stdout",
     "output_type": "stream",
     "text": [
      "Tổng S(n) = 14\n"
     ]
    }
   ],
   "source": [
    "S = 0\n",
    "n = int(input(\">>> Nhập vào số nguyên n:\"))\n",
    "for i in range(1, n+1):\n",
    "    S += i**2\n",
    "    # S += pow(i, 2)\n",
    "print(\"Tổng S(n) =\", S)"
   ]
  },
  {
   "cell_type": "markdown",
   "id": "9106b5d2-54ce-4078-bf64-23a83b8b2e06",
   "metadata": {},
   "source": [
    "## Bài 3: Tính $S(n) = 1 + \\frac{1}{2}+ \\frac{1}{3}+ … + \\frac{1}{𝑛}$"
   ]
  },
  {
   "cell_type": "code",
   "execution_count": 5,
   "id": "7b56febc-96d9-4298-b910-fe73344937f6",
   "metadata": {},
   "outputs": [
    {
     "name": "stdin",
     "output_type": "stream",
     "text": [
      ">>> Nhập vào số nguyên n: 3\n"
     ]
    },
    {
     "name": "stdout",
     "output_type": "stream",
     "text": [
      "Tổng S(n) = 1.8333333333333333\n"
     ]
    }
   ],
   "source": [
    "S = 0.0\n",
    "n = int(input('>>> Nhập vào số nguyên n:'))\n",
    "for i in range(1, n+1):\n",
    "    S += 1/i\n",
    "print('Tổng S(n) =', S)"
   ]
  },
  {
   "cell_type": "markdown",
   "id": "420144a8-5167-4ba7-bab5-e2fd55439a1d",
   "metadata": {},
   "source": [
    "## Bài 4: Tính $S(n) = \\frac{1}{2} + \\frac{1}{4}+…+ \\frac{1}{2𝑛}$"
   ]
  },
  {
   "cell_type": "code",
   "execution_count": 9,
   "id": "7c0a137b-a7ad-43d0-ae9a-926018bf138f",
   "metadata": {},
   "outputs": [
    {
     "name": "stdin",
     "output_type": "stream",
     "text": [
      "Nhập vào số nguyên n: 3\n"
     ]
    },
    {
     "name": "stdout",
     "output_type": "stream",
     "text": [
      "Tổng S(n) = 0.9166666666666666\n"
     ]
    }
   ],
   "source": [
    "S = 0.0\n",
    "n = int(input('Nhập vào số nguyên n:'))\n",
    "for i in range(1, n+1):\n",
    "    S += 1/(2*i)\n",
    "print('Tổng S(n) =', S)"
   ]
  },
  {
   "cell_type": "markdown",
   "id": "7429896a-1560-400e-aa9d-6ab809aebdca",
   "metadata": {},
   "source": [
    "## Bài 5: $Tính S(n) = 1 + \\frac{1}{3} + \\frac{1}{5}+ … + \\frac{1}{2𝑛+1}$"
   ]
  },
  {
   "cell_type": "code",
   "execution_count": 15,
   "id": "63c785cb-d6ca-4b9a-88c7-7d863c51927b",
   "metadata": {},
   "outputs": [
    {
     "name": "stdin",
     "output_type": "stream",
     "text": [
      ">>> Nhập số nguyên n: 3\n"
     ]
    },
    {
     "name": "stdout",
     "output_type": "stream",
     "text": [
      "Tổng S(n) là: 1.5333333333333332\n"
     ]
    }
   ],
   "source": [
    "S = 0.0\n",
    "n = int(input('>>> Nhập số nguyên n:'))\n",
    "for i in range(n):\n",
    "    S += 1/(2*i+1)\n",
    "print('Tổng S(n) là:', S)"
   ]
  },
  {
   "cell_type": "markdown",
   "id": "ab69f204-15af-46af-a5a7-6e090ce223ac",
   "metadata": {},
   "source": [
    "## Bài 6: Tính $S(n) = \\frac{1}{1.2} + \\frac{1}{2.3}+…+ \\frac{1}{𝑛.(𝑛+1)}$"
   ]
  },
  {
   "cell_type": "code",
   "execution_count": 17,
   "id": "76f52fa7-9a3d-43e3-b44d-6da420703712",
   "metadata": {},
   "outputs": [
    {
     "name": "stdin",
     "output_type": "stream",
     "text": [
      ">>> Nhập vào số nguyên n: 3\n"
     ]
    },
    {
     "name": "stdout",
     "output_type": "stream",
     "text": [
      "Tổng là S(n) = 0.75\n"
     ]
    }
   ],
   "source": [
    "S = 0.0\n",
    "n = int(input('>>> Nhập vào số nguyên n:'))\n",
    "for i in range(1, n+1):\n",
    "    S += 1/(i*(i+1))\n",
    "print(\"Tổng là S(n) =\", S)"
   ]
  },
  {
   "cell_type": "markdown",
   "id": "27906d3f-2aff-4a34-a37a-de5d87a7d57f",
   "metadata": {},
   "source": [
    "## Bài 7: Tính S(n) = $\\frac{1}{2} + \\frac{2}{3} + \\frac{3}{4}…+ \\frac{𝑛}{𝑛+1}$"
   ]
  },
  {
   "cell_type": "code",
   "execution_count": 19,
   "id": "91b0b742-978f-4621-8b17-1d7f5de06291",
   "metadata": {},
   "outputs": [
    {
     "name": "stdin",
     "output_type": "stream",
     "text": [
      ">>> Nhập vào số nguyên n: 3\n"
     ]
    },
    {
     "name": "stdout",
     "output_type": "stream",
     "text": [
      "Tổng S(n) = 1.9166666666666665\n"
     ]
    }
   ],
   "source": [
    "S = 0.0\n",
    "n = int(input('>>> Nhập vào số nguyên n:'))\n",
    "for i in range(1, n+1):\n",
    "    S += i/(i+1)\n",
    "print('Tổng S(n) =', S)"
   ]
  },
  {
   "cell_type": "markdown",
   "id": "a6cdd43e-03d2-4197-9cfd-0e7fbed54093",
   "metadata": {},
   "source": [
    "## Bài 8: Tính S(n) = $\\frac{1}{2} + \\frac{3}{4} + \\frac{5}{6}…+ \\frac{2𝑛+1}{2𝑛+2}$"
   ]
  },
  {
   "cell_type": "code",
   "execution_count": 20,
   "id": "27fd4acd-f74a-4c14-844a-ad745ba4a715",
   "metadata": {},
   "outputs": [
    {
     "name": "stdin",
     "output_type": "stream",
     "text": [
      ">>> Nhập vào số nguyên n: 3\n"
     ]
    },
    {
     "name": "stdout",
     "output_type": "stream",
     "text": [
      "Tổng S(n) là: 2.9583333333333335\n"
     ]
    }
   ],
   "source": [
    "S = 0.0\n",
    "n = int(input('>>> Nhập vào số nguyên n:'))\n",
    "for i in range(n+1):\n",
    "    S += (2*i+1)/(2*i+2)\n",
    "print('Tổng S(n) là:', S)"
   ]
  },
  {
   "cell_type": "markdown",
   "id": "7c6fd274-64a0-44dd-9d73-b92b6a9c7bbe",
   "metadata": {},
   "source": [
    "## Bài 9: Tính $T(n) = 1x2x3x … x𝑛$"
   ]
  },
  {
   "cell_type": "code",
   "execution_count": 24,
   "id": "78d65a4f-ea09-45b5-b192-ab2478ea166f",
   "metadata": {},
   "outputs": [
    {
     "name": "stdin",
     "output_type": "stream",
     "text": [
      ">>> Nhập vào số nguyên n: 3\n"
     ]
    },
    {
     "name": "stdout",
     "output_type": "stream",
     "text": [
      "Giá trị T(n) = 6\n"
     ]
    }
   ],
   "source": [
    "T = 1\n",
    "n = int(input('>>> Nhập vào số nguyên n:'))\n",
    "for i in range(1,n+1):\n",
    "    T *= i\n",
    "print('Giá trị T(n) =', T)"
   ]
  },
  {
   "cell_type": "markdown",
   "id": "627d4b49-9a78-456f-8fe8-0d21e13d116e",
   "metadata": {},
   "source": [
    "## Bài 10: Tính $T(x, n) = 𝑥^𝑛$"
   ]
  },
  {
   "cell_type": "code",
   "execution_count": 6,
   "id": "7f6a72fd-e724-4066-914b-e0887c1f47f3",
   "metadata": {},
   "outputs": [
    {
     "name": "stdin",
     "output_type": "stream",
     "text": [
      ">>> Nhập x = 3\n",
      ">>> Nhập n = 5\n"
     ]
    },
    {
     "name": "stdout",
     "output_type": "stream",
     "text": [
      "Giá trị T(3.0,5) = 243.0\n"
     ]
    }
   ],
   "source": [
    "def Pow(x, n):\n",
    "    if n == 0:\n",
    "        T = 1\n",
    "    else:\n",
    "        T = x\n",
    "        for i in range(1,n):\n",
    "            T*=x\n",
    "    return T\n",
    "\n",
    "x = float(input('>>> Nhập x ='))\n",
    "n = int(input('>>> Nhập n ='))\n",
    "print(\"Giá trị T({},{}) = {}\".format(x,n,Pow(x,n)))"
   ]
  },
  {
   "cell_type": "markdown",
   "id": "dc7accda-bd3d-4b6b-9573-a50b68926258",
   "metadata": {},
   "source": [
    "## Bài 11: Tính $S(n) = 1 + 1𝑥2 + 1𝑥2𝑥3 +⋯+ 1𝑥2𝑥3𝑥…𝑥𝑛$"
   ]
  },
  {
   "cell_type": "code",
   "execution_count": 5,
   "id": "48d0a3b3-d30e-41e1-bff9-5447d34e2d01",
   "metadata": {},
   "outputs": [
    {
     "name": "stdin",
     "output_type": "stream",
     "text": [
      ">>> Nhập vào số nguyên n: 3\n"
     ]
    },
    {
     "name": "stdout",
     "output_type": "stream",
     "text": [
      "Giá trị S(3) = 9\n"
     ]
    }
   ],
   "source": [
    "S = 0\n",
    "n = int(input(\">>> Nhập vào số nguyên n:\"))\n",
    "\n",
    "for i in range(1, n+1):\n",
    "    tmp = 1\n",
    "    for j in range(i):\n",
    "        tmp *= (j+1)\n",
    "    S += tmp\n",
    "\n",
    "print('Giá trị S({}) = {}'.format(n,S))"
   ]
  },
  {
   "cell_type": "markdown",
   "id": "10f0b602-6517-4ab9-ac84-ed4e0427fdf7",
   "metadata": {},
   "source": [
    "## Bài 12: Tính $S(x,n) = 𝑥 + 𝑥^2 + 𝑥^3 +⋯+ 𝑥^𝑛$"
   ]
  },
  {
   "cell_type": "code",
   "execution_count": 7,
   "id": "d9b212b2-ca07-4153-a10e-72582fef9c3e",
   "metadata": {
    "tags": []
   },
   "outputs": [
    {
     "name": "stdin",
     "output_type": "stream",
     "text": [
      ">>> Nhập vào x: 3\n",
      ">>> Nhập vào n: 3\n"
     ]
    },
    {
     "name": "stdout",
     "output_type": "stream",
     "text": [
      "Giá trị S(3.0, 3) = 39.0\n"
     ]
    }
   ],
   "source": [
    "S = 0.0\n",
    "x = float(input(\">>> Nhập vào x:\"))\n",
    "n = int(input(\">>> Nhập vào n:\"))\n",
    "\n",
    "for i in range(1, n+1):\n",
    "    S += x**i\n",
    "\n",
    "print(\"Giá trị S({}, {}) = {}\".format(x, n, S))"
   ]
  },
  {
   "cell_type": "markdown",
   "id": "ef5b63e0-80de-40f2-95cc-342822aca9e8",
   "metadata": {},
   "source": [
    "## Bài 13: Tính $S(x, n) = 𝑥^2 + 𝑥^4 +⋯+ 𝑥^{2𝑛}$"
   ]
  },
  {
   "cell_type": "code",
   "execution_count": 8,
   "id": "080a852b-54a8-4918-bbb4-1d6594ba4792",
   "metadata": {
    "tags": []
   },
   "outputs": [
    {
     "name": "stdin",
     "output_type": "stream",
     "text": [
      ">>> Nhập vào x: 2\n",
      ">>> Nhập vào n: 2\n"
     ]
    },
    {
     "name": "stdout",
     "output_type": "stream",
     "text": [
      "Giá trị S(2.0, 2) = 20.0\n"
     ]
    }
   ],
   "source": [
    "S = 0.0\n",
    "x = float(input(\">>> Nhập vào x:\"))\n",
    "n = int(input(\">>> Nhập vào n:\"))\n",
    "\n",
    "for i in range(1, n+1):\n",
    "    S += x**(2*i)\n",
    "\n",
    "print(\"Giá trị S({}, {}) = {}\".format(x, n, S))"
   ]
  },
  {
   "cell_type": "markdown",
   "id": "98d921ed-5911-4b80-a348-3a3659514124",
   "metadata": {},
   "source": [
    "## Bài 14: Tính $S(x, n) = 𝑥 + 𝑥^3 + 𝑥^5 +…+ 𝑥^{2𝑛+1}$"
   ]
  },
  {
   "cell_type": "code",
   "execution_count": 10,
   "id": "85b75443-5c3c-4053-9b82-0bfcab7f4404",
   "metadata": {
    "tags": []
   },
   "outputs": [
    {
     "name": "stdin",
     "output_type": "stream",
     "text": [
      ">>> Nhập vào x: 2\n",
      ">>> Nhập vào n: 3\n"
     ]
    },
    {
     "name": "stdout",
     "output_type": "stream",
     "text": [
      "Giá trị S(2.0, 3) = 170.0\n"
     ]
    }
   ],
   "source": [
    "S = 0.0\n",
    "x = float(input(\">>> Nhập vào x:\"))\n",
    "n = int(input(\">>> Nhập vào n:\"))\n",
    "\n",
    "for i in range(n+1):\n",
    "    S += x**(2*i + 1)\n",
    "\n",
    "print(\"Giá trị S({}, {}) = {}\".format(x, n, S))"
   ]
  },
  {
   "cell_type": "markdown",
   "id": "6d5aab31-9518-4756-a3d0-72c624d6ed12",
   "metadata": {},
   "source": [
    "## Bài 15: Tính $S(n) = 1 + \\frac{1}{1+ 2} + \\frac{1}{1+2+3} +…+ \\frac{1}{1+2+3+⋯+𝑛}$"
   ]
  },
  {
   "cell_type": "code",
   "execution_count": 19,
   "id": "44902f78-76ed-4afe-9b9c-862bf3345a3a",
   "metadata": {
    "tags": []
   },
   "outputs": [
    {
     "name": "stdin",
     "output_type": "stream",
     "text": [
      ">>> Nhập vào n: 2\n"
     ]
    },
    {
     "name": "stdout",
     "output_type": "stream",
     "text": [
      "1.0\n",
      "1.3333333333333333\n",
      "Giá trị S(2) = 1.3333333333333333\n"
     ]
    }
   ],
   "source": [
    "S = 0.0\n",
    "n = int(input(\">>> Nhập vào n:\"))\n",
    "tmp = 0\n",
    "for i in range(1,n+1):\n",
    "    tmp += i\n",
    "    S += 1/tmp\n",
    "\n",
    "print(\"Giá trị S({}) = {}\".format(n, S))"
   ]
  },
  {
   "cell_type": "markdown",
   "id": "e6dfe37f-020f-498b-9247-d4ea663532fd",
   "metadata": {},
   "source": [
    "## Bài 16: Tính $S(x, n) = 𝑥 + \\frac{𝑥^2}{1 + 2} + \\frac{𝑥^3}{1+2+3} +…+ \\frac{𝑥^𝑛}{1+2+3+⋯+𝑛}$"
   ]
  },
  {
   "cell_type": "code",
   "execution_count": 15,
   "id": "de5764bb-ad87-4721-aace-afd12e28529f",
   "metadata": {
    "tags": []
   },
   "outputs": [
    {
     "name": "stdin",
     "output_type": "stream",
     "text": [
      ">>> Nhập vào x: 2\n",
      ">>> Nhập vào n: 2\n"
     ]
    },
    {
     "name": "stdout",
     "output_type": "stream",
     "text": [
      "Giá trị S(2.0, 2) = 3.333333333333333\n"
     ]
    }
   ],
   "source": [
    "S = 0.0\n",
    "x = float(input(\">>> Nhập vào x:\"))\n",
    "n = int(input(\">>> Nhập vào n:\"))\n",
    "tmp = 0\n",
    "\n",
    "for i in range(1, n+1):\n",
    "    tmp += i\n",
    "    S += (x**(i))/tmp\n",
    "\n",
    "print(\"Giá trị S({}, {}) = {}\".format(x, n, S))"
   ]
  },
  {
   "cell_type": "markdown",
   "id": "78fdaa70-0776-4031-bec4-b352aca9bfe8",
   "metadata": {},
   "source": [
    "## Bài 17: Tính $S(x, n) = 𝑥 + \\frac{𝑥^2}{2!} + \\frac{𝑥^3}{3!} +…+ \\frac{𝑥^𝑛}{𝑛!}$"
   ]
  },
  {
   "cell_type": "code",
   "execution_count": 21,
   "id": "c6f3c803-6e80-4827-8169-b77ac7595bf9",
   "metadata": {
    "tags": []
   },
   "outputs": [
    {
     "name": "stdin",
     "output_type": "stream",
     "text": [
      ">>> Nhập vào x: 2\n",
      ">>> Nhập vào n: 3\n"
     ]
    },
    {
     "name": "stdout",
     "output_type": "stream",
     "text": [
      "Giá trị S(2.0, 3) = 5.333333333333333\n"
     ]
    }
   ],
   "source": [
    "S = 0.0\n",
    "x = float(input(\">>> Nhập vào x:\"))\n",
    "n = int(input(\">>> Nhập vào n:\"))\n",
    "\n",
    "def GiaiThua(t):\n",
    "    \"\"\"\n",
    "    Chương trình tính giai thừa\n",
    "    ---\n",
    "    Tham số:\n",
    "    - t: số cần tính giai thừa\n",
    "    ---\n",
    "    Trả về:\n",
    "    - gt: giá trị t!\n",
    "    \"\"\"\n",
    "    gt = 1\n",
    "    for i in range(1, t+1):\n",
    "        gt *= i\n",
    "    return gt\n",
    "\n",
    "for i in range(1,n+1):\n",
    "    S += (x**i)/GiaiThua(i)\n",
    "\n",
    "print(\"Giá trị S({}, {}) = {}\".format(x, n, S))"
   ]
  },
  {
   "cell_type": "markdown",
   "id": "fb6eb8c8-36ef-4eef-bbf2-5b591e0686d0",
   "metadata": {},
   "source": [
    "## Bài 18: Tính $S(x, n) = 1 + \\frac{𝑥^2}{2!} + \\frac{𝑥^4}{4!} +…+ \\frac{𝑥^{2𝑛}}{(2𝑛)!}$"
   ]
  },
  {
   "cell_type": "code",
   "execution_count": 22,
   "id": "0396b96e-9912-4e55-8132-2d9216bb5779",
   "metadata": {
    "tags": []
   },
   "outputs": [
    {
     "name": "stdin",
     "output_type": "stream",
     "text": [
      ">>> Nhập vào x: 2\n",
      ">>> Nhập vào n: 3\n"
     ]
    },
    {
     "name": "stdout",
     "output_type": "stream",
     "text": [
      "Giá trị S(2.0, 3) = 3.7555555555555555\n"
     ]
    }
   ],
   "source": [
    "S = 1.0\n",
    "x = float(input(\">>> Nhập vào x:\"))\n",
    "n = int(input(\">>> Nhập vào n:\"))\n",
    "\n",
    "def GiaiThua(t):\n",
    "    \"\"\"\n",
    "    Chương trình tính giai thừa\n",
    "    ---\n",
    "    Tham số:\n",
    "    - t: số cần tính giai thừa\n",
    "    ---\n",
    "    Trả về:\n",
    "    - gt: giá trị t!\n",
    "    \"\"\"\n",
    "    gt = 1\n",
    "    for i in range(1, t+1):\n",
    "        gt *= i\n",
    "    return gt\n",
    "\n",
    "for i in range(1,n+1):\n",
    "    S += (x**(2*i))/GiaiThua(2*i)\n",
    "\n",
    "print(\"Giá trị S({}, {}) = {}\".format(x, n, S))"
   ]
  },
  {
   "cell_type": "markdown",
   "id": "3ae6aa17-a24d-41b7-8387-1555a61b4c45",
   "metadata": {
    "tags": []
   },
   "source": [
    "## Bài 19: Tính $S(x, n) = 1 + 𝑥 + \\frac{𝑥^3}{3!} + \\frac{𝑥^5}{5!} +…+ \\frac{𝑥^{2𝑛+1}}{(2𝑛+1)!}$"
   ]
  },
  {
   "cell_type": "code",
   "execution_count": 23,
   "id": "7203e02e-31ac-44b3-a3bd-4769f0a39090",
   "metadata": {
    "tags": []
   },
   "outputs": [
    {
     "name": "stdin",
     "output_type": "stream",
     "text": [
      ">>> Nhập vào x: 2\n",
      ">>> Nhập vào n: 3\n"
     ]
    },
    {
     "name": "stdout",
     "output_type": "stream",
     "text": [
      "Giá trị S(2.0, 3) = 2.625396825396825\n"
     ]
    }
   ],
   "source": [
    "S = 1.0\n",
    "x = float(input(\">>> Nhập vào x:\"))\n",
    "n = int(input(\">>> Nhập vào n:\"))\n",
    "\n",
    "def GiaiThua(t):\n",
    "    \"\"\"\n",
    "    Chương trình tính giai thừa\n",
    "    ---\n",
    "    Tham số:\n",
    "    - t: số cần tính giai thừa\n",
    "    ---\n",
    "    Trả về:\n",
    "    - gt: giá trị t!\n",
    "    \"\"\"\n",
    "    gt = 1\n",
    "    for i in range(1, t+1):\n",
    "        gt *= i\n",
    "    return gt\n",
    "\n",
    "for i in range(1,n+1):\n",
    "    S += (x**(2*i+1))/GiaiThua(2*i+1)\n",
    "\n",
    "print(\"Giá trị S({}, {}) = {}\".format(x, n, S))"
   ]
  },
  {
   "cell_type": "markdown",
   "id": "0eb54b80-bea6-40c5-bdd3-a75ddd386f8d",
   "metadata": {},
   "source": [
    "---"
   ]
  },
  {
   "cell_type": "markdown",
   "id": "c8f67539-bce3-4daf-8c5d-ddc170fc8e17",
   "metadata": {
    "tags": []
   },
   "source": [
    "## Bài 20: Liệt kê tất cả “ước số” của số nguyên dương n"
   ]
  },
  {
   "cell_type": "code",
   "execution_count": null,
   "id": "fc481d25-406c-4a05-9f8e-50c47bcee365",
   "metadata": {
    "tags": []
   },
   "outputs": [],
   "source": []
  },
  {
   "cell_type": "markdown",
   "id": "0bfbb939-24b0-45c7-b505-8d4a0318fbd5",
   "metadata": {},
   "source": [
    "## Bài 21: Tính tổng tất cả “ước số” của số nguyên dương n"
   ]
  },
  {
   "cell_type": "code",
   "execution_count": null,
   "id": "6cfedea2-d528-4429-ad67-26d593b52f32",
   "metadata": {},
   "outputs": [],
   "source": []
  },
  {
   "cell_type": "markdown",
   "id": "08b41c58-0159-46d0-8aa7-32250e6ef97c",
   "metadata": {},
   "source": [
    "## Bài 22: Tính tích tất cả “ước số” của số nguyên dương n"
   ]
  },
  {
   "cell_type": "code",
   "execution_count": null,
   "id": "cb7b930e-5781-4043-8686-0c2e5ef0cd5d",
   "metadata": {},
   "outputs": [],
   "source": []
  },
  {
   "cell_type": "markdown",
   "id": "905d272d-7e78-4a84-bfbb-1606b8c51f4c",
   "metadata": {},
   "source": [
    "## Bài 23: Đếm số lượng “ước số” của số nguyên dương n"
   ]
  },
  {
   "cell_type": "code",
   "execution_count": null,
   "id": "7f006312-9a30-4715-8b77-970fd6ab34e7",
   "metadata": {},
   "outputs": [],
   "source": []
  },
  {
   "cell_type": "markdown",
   "id": "4bdb513f-8c44-40f6-aeb7-d1121257579e",
   "metadata": {},
   "source": [
    "## Bài 24: Liệt kê tất cả “ước số lẻ” của số nguyên dương n"
   ]
  },
  {
   "cell_type": "code",
   "execution_count": null,
   "id": "f09aca41-2c4d-4e19-a2b4-f53cf8e44e0c",
   "metadata": {},
   "outputs": [],
   "source": []
  },
  {
   "cell_type": "markdown",
   "id": "f14bfb47-8d04-4d62-8ef6-e8747ce234ce",
   "metadata": {},
   "source": [
    "## Bài 25: Tính tổng tất cả “ước số chẵn” của số nguyên dương n"
   ]
  },
  {
   "cell_type": "code",
   "execution_count": null,
   "id": "75e26e01-0274-4c64-aa16-4dc0e2e25848",
   "metadata": {},
   "outputs": [],
   "source": []
  },
  {
   "cell_type": "markdown",
   "id": "93a9e9ca-e2af-4c52-ad25-b5374b94ca70",
   "metadata": {},
   "source": [
    "## Bài 26: Tính tích tất cả “ước số lẻ” của số nguyên dương n"
   ]
  },
  {
   "cell_type": "code",
   "execution_count": null,
   "id": "e73f2c58-fc25-4b58-9bd8-04ad71a815c6",
   "metadata": {},
   "outputs": [],
   "source": []
  },
  {
   "cell_type": "markdown",
   "id": "53776e15-20de-470c-b7c2-61bceff7a3a2",
   "metadata": {},
   "source": [
    "## Bài 27: Đếm số lượng “ước số chẵn” của số nguyên dương n"
   ]
  },
  {
   "cell_type": "code",
   "execution_count": null,
   "id": "0c594e23-8421-40e6-80b7-2bb5ec00c92b",
   "metadata": {},
   "outputs": [],
   "source": []
  },
  {
   "cell_type": "markdown",
   "id": "f6c47149-2972-448e-a65b-2a3695d009e1",
   "metadata": {},
   "source": [
    "## Bài 28: Cho số nguyên dương n. Tính tổng các ước số nhỏ hơn chính nó"
   ]
  },
  {
   "cell_type": "code",
   "execution_count": null,
   "id": "8f7862e3-8d07-4916-9091-93f6626632a9",
   "metadata": {},
   "outputs": [],
   "source": []
  },
  {
   "cell_type": "markdown",
   "id": "4da48564-9003-4cf0-a2c1-d9e5963cc6dd",
   "metadata": {},
   "source": [
    "## Bài 29: Tìm ước số lẻ lớn nhất của số nguyên dương n. \n",
    "    Ví dụ: n = 100 ước lẻ lớn nhất của 100 là 25"
   ]
  },
  {
   "cell_type": "code",
   "execution_count": null,
   "id": "ca6f82fc-cf75-486d-a1e6-8ffa7a9a8451",
   "metadata": {},
   "outputs": [],
   "source": []
  },
  {
   "cell_type": "markdown",
   "id": "978d3ca0-3a89-4af7-9470-7303328ca64c",
   "metadata": {},
   "source": [
    "## Bài 30: Cho số nguyên dương n. Kiểm tra số dương n có phải là số hoàn thiện hay không?\n",
    "    Định nghĩa số hoàn thiện(Hay số hoàn hảo - Perfect number): là một số nguyên dương mà tổng các ước nguyên dương chính thức của nó bằng chính nó."
   ]
  },
  {
   "cell_type": "code",
   "execution_count": null,
   "id": "8b22a940-05c5-4003-a18e-49d9e1eceb01",
   "metadata": {
    "tags": []
   },
   "outputs": [],
   "source": []
  },
  {
   "cell_type": "markdown",
   "id": "b329c4e4-1626-45fb-b670-28044c6e9d5d",
   "metadata": {},
   "source": [
    "## Bài 31: Cho số nguyên dương n. Kiểm tra số nguyên dương n có phải là số nguyên tố hay không?\n",
    "    Định nghĩa số nguyên tố(Prime number): là số chỉ có hai ước duy nhất là 1 và chính nó"
   ]
  },
  {
   "cell_type": "code",
   "execution_count": null,
   "id": "d2cc62bd-31a0-41f8-aef7-66624a5a104e",
   "metadata": {},
   "outputs": [],
   "source": []
  },
  {
   "cell_type": "markdown",
   "id": "b99fc40f-0f04-4bb2-81c9-a39ee8146827",
   "metadata": {},
   "source": [
    "## Bài 32: Cho số nguyên dương n. Kiểm tra số nguyên dương n có phải là số chính phương hay không?\n",
    "    Định nghĩa số chính phương(Square Number): là số mà căn bậc 2 của nó là một số nguyên. Tức nó là kết quả bình phương của một số nguyên."
   ]
  },
  {
   "cell_type": "code",
   "execution_count": null,
   "id": "987fc21b-a9b4-4a2d-878d-248e8d62a8cb",
   "metadata": {},
   "outputs": [],
   "source": []
  },
  {
   "cell_type": "markdown",
   "id": "f00f5ef3-5013-48f8-9ac3-36705eef44a3",
   "metadata": {},
   "source": [
    "## Bài 33: Tính $S(n) = \\sqrt{2 + \\sqrt{2 + \\sqrt{2+...\\sqrt{2+\\sqrt{2}}}}}$ có n dấu căn thức"
   ]
  },
  {
   "cell_type": "code",
   "execution_count": null,
   "id": "ea95b06a-781b-47ca-9d4d-67af47a19e50",
   "metadata": {},
   "outputs": [],
   "source": []
  },
  {
   "cell_type": "markdown",
   "id": "64a0b23c-564e-4b64-95c8-e615c46676d1",
   "metadata": {},
   "source": [
    "## Bài 34: Tính  $S(n) = \\sqrt{n + \\sqrt{n-1 + \\sqrt{n-2 +...\\sqrt{2+\\sqrt{1}}}}}$ có n dấu căn thức"
   ]
  },
  {
   "cell_type": "code",
   "execution_count": null,
   "id": "01c31aad-9a95-4d51-8f03-ac059b4079aa",
   "metadata": {},
   "outputs": [],
   "source": []
  },
  {
   "cell_type": "markdown",
   "id": "30044fb8-c2cd-4061-8218-e3cd42cbaa01",
   "metadata": {},
   "source": [
    "## Bài 35: Tính $S(n) = \\sqrt{1 + \\sqrt{2 + \\sqrt{3+...\\sqrt{n-1 + \\sqrt{n}}}}}$ có n dấu căn thức"
   ]
  },
  {
   "cell_type": "code",
   "execution_count": null,
   "id": "005acdf2-4247-44d2-bae9-d9ee62ee002b",
   "metadata": {},
   "outputs": [],
   "source": []
  },
  {
   "cell_type": "markdown",
   "id": "57d46513-2355-43fa-8bef-f656756f831a",
   "metadata": {},
   "source": [
    "## Bài 36: Tính $S(n) = \\sqrt{n! + \\sqrt{(n-1)! + \\sqrt{(n-2)! +...\\sqrt{2! + \\sqrt{1!}}}}}$ có n dấu căn thức"
   ]
  },
  {
   "cell_type": "code",
   "execution_count": null,
   "id": "b34fce51-c208-4d1f-9c89-9c44b934ee37",
   "metadata": {},
   "outputs": [],
   "source": []
  },
  {
   "cell_type": "markdown",
   "id": "87c36260-f4f6-4209-84d6-50beb1b985f7",
   "metadata": {},
   "source": [
    "## Bài 37: Tính $S(n) = \\sqrt[n]{n + \\sqrt[n-1]{n-1 + \\sqrt[n-2]{n-2 +...+ \\sqrt[3]{3+\\sqrt{2}}}}}$ có n-1 dấu căn thức"
   ]
  },
  {
   "cell_type": "code",
   "execution_count": null,
   "id": "a5f0095b-f844-4fcf-b811-500ed843e5c1",
   "metadata": {},
   "outputs": [],
   "source": []
  },
  {
   "cell_type": "markdown",
   "id": "90296b50-93c3-48f0-b16b-2ddb9bee61de",
   "metadata": {},
   "source": [
    "## Bài 38: Tính $S(n) = \\sqrt[n+1]{n + \\sqrt[n]{n-1 + \\sqrt[n-1]{n-2 +...+ \\sqrt[3]{2+\\sqrt{1}}}}}$ có n dấu căn thức"
   ]
  },
  {
   "cell_type": "code",
   "execution_count": null,
   "id": "b9f34272-9f7f-420d-98a0-575b9c91ff0d",
   "metadata": {},
   "outputs": [],
   "source": []
  },
  {
   "cell_type": "markdown",
   "id": "0c09037c-48fa-4561-af37-9387852183eb",
   "metadata": {},
   "source": [
    "## Bài 39: Tính $S(n) = \\sqrt[n+1]{n! + \\sqrt[n]{(n-1)! + \\sqrt[n-1]{(n-2)! +...+ \\sqrt[3]{2!+\\sqrt{1!}}}}}$ có n dấu căn thức"
   ]
  },
  {
   "cell_type": "code",
   "execution_count": null,
   "id": "f0c60eea-6dfc-42c5-b712-4b23a55d5173",
   "metadata": {},
   "outputs": [],
   "source": []
  },
  {
   "cell_type": "markdown",
   "id": "0ec6d3b9-e9af-421e-8278-872145a95e46",
   "metadata": {},
   "source": [
    "## Bài 40: Tính $S(n) = \\sqrt{x^n + \\sqrt{x^{n-1} + \\sqrt{x^{n-2} +...\\sqrt{x^2 + \\sqrt{x}}}}}$ có n dấu căn thức"
   ]
  },
  {
   "cell_type": "code",
   "execution_count": null,
   "id": "866a39e4-9068-4b35-9705-a9edc1c9413d",
   "metadata": {},
   "outputs": [],
   "source": []
  },
  {
   "cell_type": "markdown",
   "id": "0caf2200-7ab4-4559-9ec7-5721d5f0f05d",
   "metadata": {},
   "source": [
    "## Bài 41: Tính $S(n) = \\frac{1}{1 + \\frac{1}{1 + \\frac{1}{1 + \\frac{1}{1 + \\frac{1}{1 + \\frac{1}{1 + 1}}}}}}$"
   ]
  },
  {
   "cell_type": "code",
   "execution_count": null,
   "id": "1859ccd6-5109-4aa5-929c-b267d2a41778",
   "metadata": {},
   "outputs": [],
   "source": []
  },
  {
   "cell_type": "markdown",
   "id": "1da4cd16-55a2-4158-b1ef-ea87b412f73f",
   "metadata": {},
   "source": [
    "## Bài 42: Cho `n` là số nguyên dương. Hãy tìm giá trị nguyên dương `k` lớn nhất sao cho $S(k) < n$. Trong đó, chuỗi `S(k)` được định nghĩa như sau: $S(k) = 1 + 2 + 3 +...+ k$"
   ]
  },
  {
   "cell_type": "code",
   "execution_count": null,
   "id": "89b2d6ac-8618-47e6-be97-ece1f8247e56",
   "metadata": {},
   "outputs": [],
   "source": []
  },
  {
   "cell_type": "markdown",
   "id": "eab213c9-bc20-44b0-a82b-fef8bdd2c192",
   "metadata": {},
   "source": [
    "## Bài 43: Hãy đếm số lượng chữ số của số nguyên dương n"
   ]
  },
  {
   "cell_type": "code",
   "execution_count": null,
   "id": "17d6f32a-4384-44d8-9de2-3406b2b1972d",
   "metadata": {},
   "outputs": [],
   "source": []
  },
  {
   "cell_type": "markdown",
   "id": "0ab8fc1e-93ab-481a-9008-32bf271e8659",
   "metadata": {},
   "source": [
    "## Bài 44: Hãy tính tổng các chữ số của số nguyên dương n"
   ]
  },
  {
   "cell_type": "code",
   "execution_count": null,
   "id": "325c04fc-e485-4ff6-8776-436291bc8459",
   "metadata": {},
   "outputs": [],
   "source": []
  },
  {
   "cell_type": "markdown",
   "id": "fe0d145a-8e14-4990-aeca-e5d317cc4e74",
   "metadata": {},
   "source": [
    "## Bài 45: Hãy tính tích các chữ số của số nguyên dương n"
   ]
  },
  {
   "cell_type": "code",
   "execution_count": null,
   "id": "9bf0931f-8caa-44a1-bb4a-38857a1c710a",
   "metadata": {},
   "outputs": [],
   "source": []
  },
  {
   "cell_type": "markdown",
   "id": "028427b1-039a-415c-ab39-b03e0d9c73a5",
   "metadata": {},
   "source": [
    "## Bài 46: Hãy đếm số lượng chữ số lẻ của số nguyên dương n"
   ]
  },
  {
   "cell_type": "code",
   "execution_count": null,
   "id": "75cbfa18-3bd3-4880-9296-73147232d97e",
   "metadata": {},
   "outputs": [],
   "source": []
  },
  {
   "cell_type": "markdown",
   "id": "85aa25c2-c2f7-4d5e-8830-90ba3b6d3aea",
   "metadata": {},
   "source": [
    "## Bài 47: Hãy tính tổng các chữ số chẵn của số nguyên dương n"
   ]
  },
  {
   "cell_type": "code",
   "execution_count": null,
   "id": "2993b6f0-ce40-4d90-995b-d64e6a8d640b",
   "metadata": {},
   "outputs": [],
   "source": []
  },
  {
   "cell_type": "markdown",
   "id": "64c80cd8-ad32-49ed-967d-1b5d0c14811b",
   "metadata": {},
   "source": [
    "## Bài 48: Hãy tính tích các chữ số lẻ của số nguyên dương n"
   ]
  },
  {
   "cell_type": "code",
   "execution_count": null,
   "id": "a83d3720-79f8-4ca7-91ff-b85fd93fe2db",
   "metadata": {},
   "outputs": [],
   "source": []
  },
  {
   "cell_type": "markdown",
   "id": "c3aef570-a728-4b6e-bd01-cf841b13237e",
   "metadata": {},
   "source": [
    "## Bài 49: Cho số nguyên dương n. Hãy tìm chữ số đầu tiên của n"
   ]
  },
  {
   "cell_type": "code",
   "execution_count": null,
   "id": "4a847f9e-dd82-424e-8094-5c499fa5eca6",
   "metadata": {},
   "outputs": [],
   "source": []
  },
  {
   "cell_type": "markdown",
   "id": "5cd68950-9e18-47b1-911e-0b67044e8b53",
   "metadata": {},
   "source": [
    "## Bài 50: Hãy tìm chữ số đảo ngược của số nguyên dương n"
   ]
  },
  {
   "cell_type": "code",
   "execution_count": null,
   "id": "e0f2596f-fcc2-4391-8612-55b4f6cc8757",
   "metadata": {},
   "outputs": [],
   "source": []
  },
  {
   "cell_type": "markdown",
   "id": "e7d52634-44f9-4a40-b678-ad57266eedd9",
   "metadata": {},
   "source": [
    "## Bài 51: Tìm chữ số lớn nhất của số nguyên dương n"
   ]
  },
  {
   "cell_type": "code",
   "execution_count": null,
   "id": "2c2bde0a-03d2-4d75-a882-06f9a8d10e2b",
   "metadata": {},
   "outputs": [],
   "source": []
  },
  {
   "cell_type": "markdown",
   "id": "f6dc2fdc-34de-44a4-8d87-d7e7682a33a1",
   "metadata": {
    "tags": []
   },
   "source": [
    "## Bài 52: Tìm chữ số nhỏ nhất của số nguyên dương n.\n"
   ]
  },
  {
   "cell_type": "code",
   "execution_count": null,
   "id": "f5c47899-fd8b-4cfd-a4bd-8d16716d6374",
   "metadata": {},
   "outputs": [],
   "source": []
  },
  {
   "cell_type": "markdown",
   "id": "67b4561e-c442-49a8-97e3-27ba3890ddeb",
   "metadata": {
    "tags": []
   },
   "source": [
    "## Bài 53: Hãy đếm số lượng chữ số lớn nhất của số nguyên dương n."
   ]
  },
  {
   "cell_type": "code",
   "execution_count": null,
   "id": "87f7a313-ec21-464f-89f7-36c6dd2c453b",
   "metadata": {},
   "outputs": [],
   "source": []
  },
  {
   "cell_type": "markdown",
   "id": "509abd6a-f5a0-4b50-add1-bb7b00ea2fec",
   "metadata": {
    "tags": []
   },
   "source": [
    "## Bài 54: Hãy đếm số lượng chữ số nhỏ nhất của số nguyên dương n."
   ]
  },
  {
   "cell_type": "code",
   "execution_count": null,
   "id": "546af0ce-a533-4d6e-af27-72df2e75045a",
   "metadata": {},
   "outputs": [],
   "source": []
  },
  {
   "cell_type": "markdown",
   "id": "51f421f4-f466-473c-8ce7-2abfe1173ed8",
   "metadata": {
    "tags": []
   },
   "source": [
    "## Bài 55: Hãy đêm số lượng chữ số đầu tiên của số nguyên dương n.\n"
   ]
  },
  {
   "cell_type": "code",
   "execution_count": null,
   "id": "a75af239-a4e6-438a-aed6-489f8fc0a0b2",
   "metadata": {},
   "outputs": [],
   "source": []
  },
  {
   "cell_type": "markdown",
   "id": "fbfaf2f5-ce65-42f4-98bb-80916322ca18",
   "metadata": {
    "tags": []
   },
   "source": [
    "## Bài 56: Hãy kiểm tra số nguyên dương n có toàn chữ số lẻ hay không?\n"
   ]
  },
  {
   "cell_type": "code",
   "execution_count": null,
   "id": "f9380e9c-212e-4939-ace7-131e2d650d41",
   "metadata": {},
   "outputs": [],
   "source": []
  },
  {
   "cell_type": "markdown",
   "id": "de7d7972-ade0-4eb3-ac0f-1311d8631588",
   "metadata": {
    "tags": []
   },
   "source": [
    "## Bài 57: Hãy kiểm tra số nguyên dương n có toàn chữ số chẵn hay không?"
   ]
  },
  {
   "cell_type": "code",
   "execution_count": null,
   "id": "3c625ce3-ada7-4dc6-bdf5-4340521bf663",
   "metadata": {},
   "outputs": [],
   "source": []
  },
  {
   "cell_type": "markdown",
   "id": "6c5132e3-e64a-4c80-8358-8a016e9da1a4",
   "metadata": {
    "tags": []
   },
   "source": [
    "## Bài 58: Hãy kiểm tra số nguyên dương n có toàn chữ số chẵn hay không?\n"
   ]
  },
  {
   "cell_type": "code",
   "execution_count": null,
   "id": "06f10030-0a59-4b9a-958d-99b61cdeb9e7",
   "metadata": {},
   "outputs": [],
   "source": []
  },
  {
   "cell_type": "markdown",
   "id": "38005c8f-600e-47dc-8662-1f870d958b36",
   "metadata": {
    "tags": []
   },
   "source": [
    "## Bài 59: Hãy kiểm tra số nguyên dương n có phải số đối xứng hay không?\n"
   ]
  },
  {
   "cell_type": "code",
   "execution_count": null,
   "id": "192050f0-d796-4660-b782-baadb723bf16",
   "metadata": {},
   "outputs": [],
   "source": []
  },
  {
   "cell_type": "markdown",
   "id": "864f8851-1289-436c-8d81-aa1a34943b7f",
   "metadata": {
    "tags": []
   },
   "source": [
    "## Bài 60: Hãy kiểm tra các chữ số của số nguyên dương n có tăng dần từ trái sang phải hay không?\n"
   ]
  },
  {
   "cell_type": "code",
   "execution_count": null,
   "id": "ce821cf8-7247-431e-83ee-ca17f58d9504",
   "metadata": {},
   "outputs": [],
   "source": []
  },
  {
   "cell_type": "markdown",
   "id": "196fb31e-400a-48a3-b77b-ca6ce0c3f99f",
   "metadata": {
    "tags": []
   },
   "source": [
    "## Bài 61: Hãy kiểm tra các chữ số của số nguyên dương n có giảm dần từ trái sang phải hay không?\n"
   ]
  },
  {
   "cell_type": "code",
   "execution_count": null,
   "id": "f96f6feb-5bf7-4cb6-b6ca-9932a80ef5fc",
   "metadata": {},
   "outputs": [],
   "source": []
  },
  {
   "cell_type": "markdown",
   "id": "cdf7e43f-7a00-4e9d-9b4a-d835071541a4",
   "metadata": {
    "tags": []
   },
   "source": [
    "## Bài 62: Cho hai số nguyên dương a và b. Hãy vẽ lưu đồ tìm ước chung lớn nhất của hai giá trị này.\n"
   ]
  },
  {
   "cell_type": "code",
   "execution_count": null,
   "id": "658d1ad9-8b2b-4e51-8c02-4dea9c0fda2f",
   "metadata": {},
   "outputs": [],
   "source": []
  },
  {
   "cell_type": "markdown",
   "id": "590ad835-7066-4af8-91f1-5a8f58eb11ba",
   "metadata": {
    "tags": []
   },
   "source": [
    "## Bài 63: Cho hai số nguyên dương a và b. Hãy vẽ lưu đồ tìm bội chung nhỏ nhất của hai giá trị này."
   ]
  },
  {
   "cell_type": "code",
   "execution_count": null,
   "id": "947a420f-9290-469f-a4be-02ea0d430264",
   "metadata": {},
   "outputs": [],
   "source": []
  },
  {
   "cell_type": "markdown",
   "id": "4610a572-72ba-4db9-ab04-f6893d40b24b",
   "metadata": {
    "tags": []
   },
   "source": [
    "## Bài 64: Giải phương trình $𝑎𝑥+𝑏=0$\n"
   ]
  },
  {
   "cell_type": "code",
   "execution_count": null,
   "id": "83430c7c-a58e-4dd0-904e-ac622d985962",
   "metadata": {},
   "outputs": [],
   "source": []
  },
  {
   "cell_type": "markdown",
   "id": "1297eca3-1b1f-4f8c-aa14-284df441fa13",
   "metadata": {
    "tags": []
   },
   "source": [
    "## Bài 65: Giải phương trình $𝑎𝑥^2+𝑏𝑥+𝑐=0$\n"
   ]
  },
  {
   "cell_type": "code",
   "execution_count": null,
   "id": "0e2ff138-a400-4371-a409-b03c3f7bfdca",
   "metadata": {},
   "outputs": [],
   "source": []
  },
  {
   "cell_type": "markdown",
   "id": "41d64ad8-311e-45d3-b680-752cadc4e1b1",
   "metadata": {
    "tags": []
   },
   "source": [
    "## Bài 66: Giải phương trình $𝑎𝑥^4+𝑏𝑥^2+𝑐=0$\n"
   ]
  },
  {
   "cell_type": "code",
   "execution_count": null,
   "id": "adec56ab-fd4d-45d8-8604-cc4a938d34fb",
   "metadata": {},
   "outputs": [],
   "source": []
  },
  {
   "cell_type": "markdown",
   "id": "caf1d9be-884c-4932-81ed-8ad9d1dfd41b",
   "metadata": {
    "tags": []
   },
   "source": [
    "## Bài 67: Tính $S(x, n) = 𝑥−𝑥^2+𝑥^3+⋯+(−1)^{n+1}𝑥^𝑛$\n"
   ]
  },
  {
   "cell_type": "code",
   "execution_count": null,
   "id": "a7449cae-2576-49dc-b915-2e085e94c4dd",
   "metadata": {},
   "outputs": [],
   "source": []
  },
  {
   "cell_type": "markdown",
   "id": "ebbff9d4-a17b-41c8-aac0-06f1d2cb1e7f",
   "metadata": {
    "tags": []
   },
   "source": [
    "## Bài 68: Tính $S(x, n) = −𝑥^2+𝑥^4+⋯+(−1)^n𝑥^{2𝑛}$\n"
   ]
  },
  {
   "cell_type": "code",
   "execution_count": null,
   "id": "03aa6a5d-4b37-4049-8451-efea39c7dd48",
   "metadata": {},
   "outputs": [],
   "source": []
  },
  {
   "cell_type": "markdown",
   "id": "43acea2f-2a43-4da6-a99c-d1c468cd6e2c",
   "metadata": {},
   "source": [
    "## Bài 69: Tính $S(x, n) = 𝑥−𝑥^3+𝑥^5+⋯+(−1)^n𝑥^{2𝑛+1}$"
   ]
  },
  {
   "cell_type": "code",
   "execution_count": null,
   "id": "84413e05-8ef8-4ba6-a3a4-d6c558abaa1b",
   "metadata": {},
   "outputs": [],
   "source": []
  },
  {
   "cell_type": "code",
   "execution_count": null,
   "id": "a33de477-c33d-4cc4-af51-cfc88be3c874",
   "metadata": {},
   "outputs": [],
   "source": []
  },
  {
   "cell_type": "code",
   "execution_count": null,
   "id": "d795d53d-b5d3-4af9-a115-8b9ffaeaf94a",
   "metadata": {},
   "outputs": [],
   "source": []
  },
  {
   "cell_type": "code",
   "execution_count": null,
   "id": "ab5d8086-f695-4c9b-9251-083d3d16ef64",
   "metadata": {},
   "outputs": [],
   "source": []
  }
 ],
 "metadata": {
  "kernelspec": {
   "display_name": "Python 3",
   "language": "python",
   "name": "python3"
  },
  "language_info": {
   "codemirror_mode": {
    "name": "ipython",
    "version": 3
   },
   "file_extension": ".py",
   "mimetype": "text/x-python",
   "name": "python",
   "nbconvert_exporter": "python",
   "pygments_lexer": "ipython3",
   "version": "3.8.9"
  },
  "toc-autonumbering": false,
  "toc-showcode": true,
  "toc-showmarkdowntxt": true,
  "toc-showtags": false
 },
 "nbformat": 4,
 "nbformat_minor": 5
}
